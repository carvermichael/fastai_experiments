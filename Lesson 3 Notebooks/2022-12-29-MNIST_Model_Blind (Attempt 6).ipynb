{
 "cells": [
  {
   "cell_type": "markdown",
   "id": "780ea315-ba22-4378-a653-d06fc063bad2",
   "metadata": {},
   "source": [
    "# MNIST Model Blind -- Attempt 6\n",
    "\n",
    "Goal: To get a learner up and running using pytorch nets on the MNIST_Sample data, in the way that it's done in the book (Chapter 4). This is the last blind exercise I'll be doing for this chapter. Time to move on."
   ]
  },
  {
   "cell_type": "markdown",
   "id": "6316e311-efeb-47f8-b430-fb5ea4ec3402",
   "metadata": {},
   "source": [
    "### Copied Data Piece"
   ]
  },
  {
   "cell_type": "code",
   "execution_count": 1,
   "id": "649053a1-94af-4ad8-8066-1fc3f41b8fb8",
   "metadata": {},
   "outputs": [],
   "source": [
    "from fastai.data.all import untar_data, URLs\n",
    "from pathlib import Path\n",
    "from PIL import Image\n",
    "import torch\n",
    "from numpy import *\n",
    "\n",
    "path = untar_data(URLs.MNIST_SAMPLE)\n",
    "Path.BASE_PATH = path\n",
    "threes = (path/'train'/'3').ls().sorted()\n",
    "sevens = (path/'train'/'7').ls().sorted()\n",
    "seven_tensors = [torch.as_tensor(array(Image.open(o))) for o in sevens]\n",
    "three_tensors = [torch.as_tensor(array(Image.open(o))) for o in threes]"
   ]
  },
  {
   "cell_type": "code",
   "execution_count": 2,
   "id": "d0871c39-2298-4ff2-bbc8-2f4c51705d2f",
   "metadata": {},
   "outputs": [
    {
     "data": {
      "text/plain": [
       "(torch.Size([6265, 28, 28]), torch.Size([6131, 28, 28]))"
      ]
     },
     "execution_count": 2,
     "metadata": {},
     "output_type": "execute_result"
    }
   ],
   "source": [
    "stacked_sevens = torch.stack(seven_tensors).float() / 255\n",
    "stacked_threes = torch.stack(three_tensors).float() / 255\n",
    "stacked_sevens.shape, stacked_threes.shape"
   ]
  },
  {
   "cell_type": "code",
   "execution_count": 5,
   "id": "acc3e095-1997-4e03-a5cd-e2490a61e0ca",
   "metadata": {},
   "outputs": [
    {
     "data": {
      "text/plain": [
       "(torch.Size([12396, 784]), torch.Size([12396, 1]))"
      ]
     },
     "execution_count": 5,
     "metadata": {},
     "output_type": "execute_result"
    }
   ],
   "source": [
    "train_x = torch.cat([stacked_threes, stacked_sevens]).view(-1, 28*28)\n",
    "train_y = torch.as_tensor(\n",
    "    array([1]*len(threes) + [0]*len(sevens))\n",
    ").unsqueeze(1)\n",
    "train_x.shape, train_y.shape"
   ]
  },
  {
   "cell_type": "code",
   "execution_count": 6,
   "id": "aa0f2b39-2316-4b10-a821-94f4c231f7e6",
   "metadata": {},
   "outputs": [
    {
     "data": {
      "text/plain": [
       "(torch.Size([784]), tensor([1]))"
      ]
     },
     "execution_count": 6,
     "metadata": {},
     "output_type": "execute_result"
    }
   ],
   "source": [
    "dset = list(zip(train_x,train_y))\n",
    "x,y = dset[0]\n",
    "x.shape,y"
   ]
  },
  {
   "cell_type": "code",
   "execution_count": 7,
   "id": "92a6124a-5bf1-455e-bee3-d5a570a77903",
   "metadata": {},
   "outputs": [
    {
     "data": {
      "text/plain": [
       "(torch.Size([1010, 28, 28]), torch.Size([1028, 28, 28]))"
      ]
     },
     "execution_count": 7,
     "metadata": {},
     "output_type": "execute_result"
    }
   ],
   "source": [
    "valid_3_tens = torch.stack([torch.as_tensor(array(Image.open(o))) \n",
    "                            for o in (path/'valid'/'3').ls()])\n",
    "valid_3_tens = valid_3_tens.float()/255\n",
    "valid_7_tens = torch.stack([torch.as_tensor(array(Image.open(o))) \n",
    "                            for o in (path/'valid'/'7').ls()])\n",
    "valid_7_tens = valid_7_tens.float()/255\n",
    "valid_3_tens.shape,valid_7_tens.shape"
   ]
  },
  {
   "cell_type": "code",
   "execution_count": 8,
   "id": "34f4c735-1dc7-47d9-ba9f-2dbc99635e2a",
   "metadata": {},
   "outputs": [],
   "source": [
    "valid_x = torch.cat([valid_3_tens, valid_7_tens]).view(-1, 28*28)\n",
    "valid_y = torch.as_tensor(array([1]*len(valid_3_tens) + [0]*len(valid_7_tens))).unsqueeze(1)\n",
    "valid_dset = list(zip(valid_x,valid_y))"
   ]
  },
  {
   "cell_type": "markdown",
   "id": "91be22f1-ef19-42b2-a10d-4beae7fe1c4e",
   "metadata": {},
   "source": [
    "### Starting Here Without Reference"
   ]
  },
  {
   "cell_type": "code",
   "execution_count": 26,
   "id": "547e3a9f-f961-466c-9e59-3b9ed6722e1f",
   "metadata": {},
   "outputs": [
    {
     "data": {
      "text/plain": [
       "(torch.Size([256, 784]), torch.Size([256, 1]))"
      ]
     },
     "execution_count": 26,
     "metadata": {},
     "output_type": "execute_result"
    }
   ],
   "source": [
    "from fastai.data.load import DataLoader\n",
    "from fastai.basics import DataLoaders\n",
    "\n",
    "train_dl = DataLoader(dset, bs=256)\n",
    "valid_dl = DataLoader(valid_dset, bs=256)\n",
    "train_dl.one_batch()[0].shape, train_dl.one_batch()[1].shape"
   ]
  },
  {
   "cell_type": "code",
   "execution_count": 15,
   "id": "3b3723d1-3417-4465-b483-f8c80b1d38ba",
   "metadata": {},
   "outputs": [],
   "source": [
    "dls = DataLoaders(train_dl, valid_dl)"
   ]
  },
  {
   "cell_type": "code",
   "execution_count": 41,
   "id": "7e6a1368-9de2-4072-a925-d7f92487cb22",
   "metadata": {},
   "outputs": [],
   "source": [
    "from torch import nn\n",
    "\n",
    "model = nn.Sequential(\n",
    "    nn.Linear(28*28, 1),\n",
    "    nn.Sigmoid()\n",
    ")"
   ]
  },
  {
   "cell_type": "code",
   "execution_count": 42,
   "id": "58c47c98-2a05-4329-a000-d8b63b3083dd",
   "metadata": {},
   "outputs": [],
   "source": [
    "def loss(preds, tars): return torch.where(tars==1, 1-preds, preds).mean()"
   ]
  },
  {
   "cell_type": "code",
   "execution_count": 43,
   "id": "af50f6dc-f263-4040-b354-0dac14681227",
   "metadata": {},
   "outputs": [],
   "source": [
    "def accuracy(preds, tars): return ((preds > 0.5) == tars).float().mean()"
   ]
  },
  {
   "cell_type": "code",
   "execution_count": 44,
   "id": "f98b78c6-e1d1-4b55-8757-95d6a96257ae",
   "metadata": {},
   "outputs": [],
   "source": [
    "from fastai.basics import Learner\n",
    "from fastai.optimizer import SGD\n",
    "\n",
    "learn = Learner(dls, model, loss_func=loss, metrics=accuracy, opt_func=SGD)"
   ]
  },
  {
   "cell_type": "code",
   "execution_count": 45,
   "id": "69e89ff1-4f6a-4e8c-9523-14e19e7ebf31",
   "metadata": {},
   "outputs": [
    {
     "name": "stdout",
     "output_type": "stream",
     "text": [
      "[0, 0.5011638402938843, 0.49241912364959717, 0.5912659764289856, '00:00']\n",
      "[1, 0.4871678948402405, 0.4717788100242615, 0.7502453327178955, '00:00']\n",
      "[2, 0.47107040882110596, 0.4514162540435791, 0.8640824556350708, '00:00']\n",
      "[3, 0.45375362038612366, 0.4315725862979889, 0.9214916825294495, '00:00']\n",
      "[4, 0.43596887588500977, 0.4124457538127899, 0.9425907731056213, '00:00']\n",
      "[5, 0.41825178265571594, 0.3941809833049774, 0.9499509334564209, '00:00']\n",
      "[6, 0.4009486138820648, 0.3768712282180786, 0.9568204283714294, '00:00']\n",
      "[7, 0.38427141308784485, 0.36056438088417053, 0.9573110938072205, '00:00']\n",
      "[8, 0.36834585666656494, 0.3452725112438202, 0.9592738151550293, '00:00']\n",
      "[9, 0.3532417416572571, 0.3309812545776367, 0.9602551460266113, '00:00']\n"
     ]
    }
   ],
   "source": [
    "learn.fit(10)"
   ]
  },
  {
   "cell_type": "markdown",
   "id": "aebdf5ac-67c4-477f-8fcc-8464d9f0b542",
   "metadata": {},
   "source": [
    "### Awesome!\n",
    "\n",
    "That only took about 15 minutes! I hit one error at the end, but figured it out without reference.\n",
    "\n",
    "Very happy with the progress made here. I was definitely hitting diminishing returns with some of this, but it's also really helpful to know parts of the API without thinking or looking them up.\n",
    "\n",
    "Moving on..."
   ]
  }
 ],
 "metadata": {
  "kernelspec": {
   "display_name": "Python 3 (ipykernel)",
   "language": "python",
   "name": "python3"
  },
  "language_info": {
   "codemirror_mode": {
    "name": "ipython",
    "version": 3
   },
   "file_extension": ".py",
   "mimetype": "text/x-python",
   "name": "python",
   "nbconvert_exporter": "python",
   "pygments_lexer": "ipython3",
   "version": "3.10.4"
  }
 },
 "nbformat": 4,
 "nbformat_minor": 5
}
