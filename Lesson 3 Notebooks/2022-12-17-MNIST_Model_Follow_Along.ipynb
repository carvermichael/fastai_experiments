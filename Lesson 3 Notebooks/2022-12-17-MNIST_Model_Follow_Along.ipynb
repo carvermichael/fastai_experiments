{
 "cells": [
  {
   "cell_type": "markdown",
   "id": "211543d4-8234-4a9a-bc85-7f76bf735b41",
   "metadata": {},
   "source": [
    "# MNIST Model Follow Along (12-17-2022)\n",
    "\n",
    "Goal: Learn more about the later bits of Fast.ai book, Chapter 4. \n",
    "\n",
    "I've become decent at getting a rough SGD setup going, but the later parts of the chapter get into the fundamental building blocks of more complicated models, and I want to be able to grok those and repro those from scratch.\n",
    "\n",
    "After going through the code again like this, I'll try one more time to repro everything from scratch."
   ]
  },
  {
   "cell_type": "markdown",
   "id": "710d4768-a0fc-447a-8af1-93e4ff0f6f04",
   "metadata": {},
   "source": [
    "### Getting the Data Loaded..."
   ]
  },
  {
   "cell_type": "code",
   "execution_count": 1,
   "id": "8e021b5b-e867-4f7a-9919-fe83f771e129",
   "metadata": {},
   "outputs": [],
   "source": [
    "from fastai.data.external import untar_data, URLs\n",
    "\n",
    "path = untar_data(URLs.MNIST_SAMPLE)"
   ]
  },
  {
   "cell_type": "code",
   "execution_count": 3,
   "id": "ab711cf6-2f7a-41ec-8495-866491c5a803",
   "metadata": {},
   "outputs": [
    {
     "data": {
      "text/plain": [
       "(#3) [Path('labels.csv'),Path('valid'),Path('train')]"
      ]
     },
     "execution_count": 3,
     "metadata": {},
     "output_type": "execute_result"
    }
   ],
   "source": [
    "from pathlib import Path\n",
    "\n",
    "Path.BASE_PATH = path\n",
    "path.ls()"
   ]
  },
  {
   "cell_type": "code",
   "execution_count": 4,
   "id": "545b8473-526a-49f3-9d84-23d6ebd2d49b",
   "metadata": {},
   "outputs": [
    {
     "data": {
      "text/plain": [
       "(#6131) [Path('train/3/10.png'),Path('train/3/10000.png'),Path('train/3/10011.png'),Path('train/3/10031.png'),Path('train/3/10034.png'),Path('train/3/10042.png'),Path('train/3/10052.png'),Path('train/3/1007.png'),Path('train/3/10074.png'),Path('train/3/10091.png')...]"
      ]
     },
     "execution_count": 4,
     "metadata": {},
     "output_type": "execute_result"
    }
   ],
   "source": [
    "threes = (path/'train'/'3').ls().sorted()\n",
    "sevens = (path/'train'/'7').ls().sorted()\n",
    "threes"
   ]
  },
  {
   "cell_type": "code",
   "execution_count": 6,
   "id": "d0c1839a-002d-4a4b-af9c-ed435b56f19d",
   "metadata": {},
   "outputs": [
    {
     "data": {
      "image/png": "[encoded data removed]",
      "text/plain": [
       "<PIL.PngImagePlugin.PngImageFile image mode=L size=28x28>"
      ]
     },
     "execution_count": 6,
     "metadata": {},
     "output_type": "execute_result"
    }
   ],
   "source": [
    "from PIL import Image\n",
    "\n",
    "im3_path = threes[1]\n",
    "im3 = Image.open(im3_path)\n",
    "im3"
   ]
  },
  {
   "cell_type": "code",
   "execution_count": 9,
   "id": "95a17bee-1349-4d35-8a04-312ebb042f27",
   "metadata": {},
   "outputs": [],
   "source": [
    "import torch"
   ]
  },
  {
   "cell_type": "code",
   "execution_count": 14,
   "id": "a5f411c6-4d9d-4ed4-b248-abc635e26252",
   "metadata": {},
   "outputs": [
    {
     "data": {
      "text/plain": [
       "array([[  0,   0,   0,   0,   0,   3,  20,  20,  15,   0,   0,   0,   0,\n",
       "          0,  43, 224, 253, 245,  74,   0,   0,   0,   0,   0,   0,   0,\n",
       "          0,   0]], dtype=uint8)"
      ]
     },
     "execution_count": 14,
     "metadata": {},
     "output_type": "execute_result"
    }
   ],
   "source": [
    "from numpy import array\n",
    "\n",
    "array(im3)[9:10]"
   ]
  },
  {
   "cell_type": "code",
   "execution_count": 15,
   "id": "c4a2c211-dd75-450d-8c32-8e0e1b83d9d9",
   "metadata": {},
   "outputs": [
    {
     "data": {
      "text/plain": [
       "torch.Size([28, 28])"
      ]
     },
     "execution_count": 15,
     "metadata": {},
     "output_type": "execute_result"
    }
   ],
   "source": [
    "im3_t = torch.as_tensor(array(im3))\n",
    "im3_t.shape"
   ]
  },
  {
   "cell_type": "code",
   "execution_count": 16,
   "id": "4dde0168-76fc-473b-87e2-1aaf5f109080",
   "metadata": {},
   "outputs": [
    {
     "data": {
      "text/plain": [
       "(6131, 6265)"
      ]
     },
     "execution_count": 16,
     "metadata": {},
     "output_type": "execute_result"
    }
   ],
   "source": [
    "three_tensors = [torch.as_tensor(array(Image.open(im_path))) for im_path in threes]\n",
    "seven_tensors = [torch.as_tensor(array(Image.open(im_path))) for im_path in sevens]\n",
    "len(three_tensors), len(seven_tensors)"
   ]
  },
  {
   "cell_type": "code",
   "execution_count": 17,
   "id": "9bbcd617-5ea9-48fd-bdc1-cfbe423d745f",
   "metadata": {},
   "outputs": [
    {
     "data": {
      "text/plain": [
       "(torch.Size([6131, 28, 28]), torch.Size([6265, 28, 28]))"
      ]
     },
     "execution_count": 17,
     "metadata": {},
     "output_type": "execute_result"
    }
   ],
   "source": [
    "stacked_threes = torch.stack(three_tensors).float()/255\n",
    "stacked_sevens = torch.stack(seven_tensors).float()/255\n",
    "stacked_threes.shape, stacked_sevens.shape"
   ]
  },
  {
   "cell_type": "code",
   "execution_count": 18,
   "id": "8fbdd259-0a4f-442c-91b0-b416c0db4b6a",
   "metadata": {},
   "outputs": [
    {
     "data": {
      "text/plain": [
       "(torch.Size([1010, 28, 28]), torch.Size([1028, 28, 28]))"
      ]
     },
     "execution_count": 18,
     "metadata": {},
     "output_type": "execute_result"
    }
   ],
   "source": [
    "valid_3_tens = torch.stack([torch.as_tensor(array(Image.open(im_path))) for im_path in (path/'valid'/'3').ls().sorted()]).float()/255\n",
    "valid_7_tens = torch.stack([torch.as_tensor(array(Image.open(im_path))) for im_path in (path/'valid'/'7').ls().sorted()]).float()/255\n",
    "valid_3_tens.shape, valid_7_tens.shape"
   ]
  },
  {
   "cell_type": "code",
   "execution_count": 19,
   "id": "d3821e02-43a6-492c-91b3-44662ea9a715",
   "metadata": {},
   "outputs": [
    {
     "data": {
      "text/plain": [
       "torch.Size([12396, 784])"
      ]
     },
     "execution_count": 19,
     "metadata": {},
     "output_type": "execute_result"
    }
   ],
   "source": [
    "train_x = torch.cat([stacked_threes, stacked_sevens]).view(-1, 28*28)\n",
    "train_x.shape"
   ]
  },
  {
   "cell_type": "code",
   "execution_count": 21,
   "id": "20dbe7a0-865a-4b70-aa2f-b1cc4ddeed95",
   "metadata": {},
   "outputs": [
    {
     "data": {
      "text/plain": [
       "torch.Size([12396, 1])"
      ]
     },
     "execution_count": 21,
     "metadata": {},
     "output_type": "execute_result"
    }
   ],
   "source": [
    "train_y = torch.as_tensor([1]*len(threes) + [0]*len(sevens)).unsqueeze(1)\n",
    "train_y.shape"
   ]
  },
  {
   "cell_type": "code",
   "execution_count": 22,
   "id": "c6db33ef-0126-4620-9f21-811436c7e175",
   "metadata": {},
   "outputs": [
    {
     "data": {
      "text/plain": [
       "(torch.Size([784]), tensor([1]))"
      ]
     },
     "execution_count": 22,
     "metadata": {},
     "output_type": "execute_result"
    }
   ],
   "source": [
    "dset = list(zip(train_x, train_y))\n",
    "x, y = dset[0]\n",
    "x.shape, y"
   ]
  },
  {
   "cell_type": "code",
   "execution_count": 26,
   "id": "08b968ec-1c36-4df4-b3ed-211e33b455f8",
   "metadata": {},
   "outputs": [
    {
     "data": {
      "text/plain": [
       "(torch.Size([2038, 784]),\n",
       " torch.Size([2038, 1]),\n",
       " 2038,\n",
       " torch.Size([784]),\n",
       " tensor([1]))"
      ]
     },
     "execution_count": 26,
     "metadata": {},
     "output_type": "execute_result"
    }
   ],
   "source": [
    "valid_x = torch.cat([valid_3_tens, valid_7_tens]).view(-1, 28*28)\n",
    "valid_y = torch.as_tensor([1]*len(valid_3_tens) + [0]*len(valid_7_tens)).unsqueeze(1)\n",
    "valid_dset = list(zip(valid_x, valid_y))\n",
    "valid_x.shape, valid_y.shape, len(valid_dset), valid_dset[0][0].shape, valid_dset[0][1]"
   ]
  },
  {
   "cell_type": "markdown",
   "id": "4d8b2e5e-8254-4b86-95b5-33d73d0d704b",
   "metadata": {},
   "source": [
    "### Okay, this is about where I comfortably get to solo (without reference)."
   ]
  },
  {
   "cell_type": "code",
   "execution_count": 27,
   "id": "fc2ed912-3996-49ce-af61-be6a9a426619",
   "metadata": {},
   "outputs": [],
   "source": [
    "def init_params(size, std=1.0): return (torch.randn(size)*std).requires_grad_()"
   ]
  },
  {
   "cell_type": "code",
   "execution_count": 28,
   "id": "549cfb10-9c50-4062-a658-248f1f548e65",
   "metadata": {},
   "outputs": [],
   "source": [
    "# I'm noticing that the shape of the weights is _slightly_ different than what I was doing. I was just doing a straight array\n",
    "# and then making that into a tensor. I didn't realize that the torch.randn function was thing...neat!\n",
    "\n",
    "weights = init_params((28*28, 1))"
   ]
  },
  {
   "cell_type": "code",
   "execution_count": 29,
   "id": "3b552088-390c-4441-9e34-4d5a68595817",
   "metadata": {},
   "outputs": [],
   "source": [
    "bias = init_params(1)"
   ]
  },
  {
   "cell_type": "code",
   "execution_count": 30,
   "id": "cce04816-d46b-433b-9a95-56ae7c9251d8",
   "metadata": {},
   "outputs": [
    {
     "data": {
      "text/plain": [
       "tensor([6.6882], grad_fn=<AddBackward0>)"
      ]
     },
     "execution_count": 30,
     "metadata": {},
     "output_type": "execute_result"
    }
   ],
   "source": [
    "(train_x[0]*weights.T).sum() + bias"
   ]
  },
  {
   "cell_type": "code",
   "execution_count": 31,
   "id": "b560801b-7eb8-4582-9b73-b97403726f69",
   "metadata": {},
   "outputs": [
    {
     "data": {
      "text/plain": [
       "tensor([[ 6.6882],\n",
       "        [ 7.1473],\n",
       "        [-9.1151],\n",
       "        ...,\n",
       "        [-3.7317],\n",
       "        [-5.8599],\n",
       "        [-3.6317]], grad_fn=<AddBackward0>)"
      ]
     },
     "execution_count": 31,
     "metadata": {},
     "output_type": "execute_result"
    }
   ],
   "source": [
    "def linear1(xb): return xb@weights + bias\n",
    "preds = linear1(train_x)\n",
    "preds"
   ]
  },
  {
   "cell_type": "markdown",
   "id": "abde6731-d790-4fe6-ae8f-85eea4b9db88",
   "metadata": {},
   "source": [
    "Just testing whether my previous method of weight init amounts to the same thing as the method above..."
   ]
  },
  {
   "cell_type": "code",
   "execution_count": 33,
   "id": "09c63cd5-8381-44ce-926f-5545956e988a",
   "metadata": {},
   "outputs": [
    {
     "data": {
      "text/plain": [
       "(torch.Size([784]),\n",
       " torch.Size([784, 1]),\n",
       " tensor(0.3140, dtype=torch.float64),\n",
       " tensor([-2.4186], grad_fn=<SelectBackward0>))"
      ]
     },
     "execution_count": 33,
     "metadata": {},
     "output_type": "execute_result"
    }
   ],
   "source": [
    "weights_test = torch.as_tensor(np.random.randn(28*28))\n",
    "weights_test.shape, weights.shape, weights_test[0], weights[0]"
   ]
  },
  {
   "cell_type": "markdown",
   "id": "24fa0987-e799-4436-849d-a766ca481817",
   "metadata": {},
   "source": [
    "Nope! It doesn't. They would amount to the same thing if I called unsqueeze here. \n",
    "\n",
    "Hmm, I'm a little confused about how much this difference matters though.\n",
    "\n",
    "Let's see..."
   ]
  },
  {
   "cell_type": "code",
   "execution_count": 34,
   "id": "65d09286-f5bd-45f1-ac6b-2ad3ae6bc358",
   "metadata": {},
   "outputs": [
    {
     "data": {
      "text/plain": [
       "(torch.Size([9]), torch.Size([9, 1]))"
      ]
     },
     "execution_count": 34,
     "metadata": {},
     "output_type": "execute_result"
    }
   ],
   "source": [
    "weights_exp_squeezed = init_params(3*3)\n",
    "weights_exp_unsqueezed = init_params((3*3, 1))\n",
    "weights_exp_squeezed.shape, weights_exp_unsqueezed.shape"
   ]
  },
  {
   "cell_type": "code",
   "execution_count": 38,
   "id": "05ebe01d-dc71-40c8-b6b7-bb441227cbb7",
   "metadata": {},
   "outputs": [
    {
     "data": {
      "text/plain": [
       "torch.Size([9])"
      ]
     },
     "execution_count": 38,
     "metadata": {},
     "output_type": "execute_result"
    }
   ],
   "source": [
    "data_exp = torch.randn(9)\n",
    "data_exp.shape"
   ]
  },
  {
   "cell_type": "code",
   "execution_count": 40,
   "id": "24d0f0c3-e028-4ce9-a275-2108ed5ee297",
   "metadata": {},
   "outputs": [
    {
     "data": {
      "text/plain": [
       "(torch.Size([]),\n",
       " torch.Size([1]),\n",
       " tensor(-1.4323, grad_fn=<DotBackward0>),\n",
       " tensor([6.5964], grad_fn=<SqueezeBackward3>))"
      ]
     },
     "execution_count": 40,
     "metadata": {},
     "output_type": "execute_result"
    }
   ],
   "source": [
    "res_1 = data_exp@weights_exp_squeezed\n",
    "res_2 = data_exp@weights_exp_unsqueezed\n",
    "res_1.shape, res_2.shape, res_1, res_2"
   ]
  },
  {
   "cell_type": "markdown",
   "id": "3515fdf6-13cd-4e11-8d39-b131085dd0cf",
   "metadata": {},
   "source": [
    "So, they amount to the same thing, just a different rank of the resulting tensor. Either way, we just end up with a single number. Hmmm... I don't know. Maybe this comes into play with the next steps?..."
   ]
  },
  {
   "cell_type": "code",
   "execution_count": 41,
   "id": "a899fb72-272c-4bb1-9c60-a70aeba98d2f",
   "metadata": {},
   "outputs": [
    {
     "data": {
      "text/plain": [
       "tensor([[ True],\n",
       "        [ True],\n",
       "        [False],\n",
       "        ...,\n",
       "        [ True],\n",
       "        [ True],\n",
       "        [ True]])"
      ]
     },
     "execution_count": 41,
     "metadata": {},
     "output_type": "execute_result"
    }
   ],
   "source": [
    "corrects = (preds>0.0).float() == train_y\n",
    "corrects"
   ]
  },
  {
   "cell_type": "code",
   "execution_count": 42,
   "id": "0861a2c9-cfba-4f9d-bac5-8d77572f1199",
   "metadata": {},
   "outputs": [
    {
     "data": {
      "text/plain": [
       "0.700709879398346"
      ]
     },
     "execution_count": 42,
     "metadata": {},
     "output_type": "execute_result"
    }
   ],
   "source": [
    "corrects.float().mean().item()"
   ]
  },
  {
   "cell_type": "markdown",
   "id": "da07d341-2eff-4adb-82ff-69ff2fcaaf23",
   "metadata": {},
   "source": [
    "Note: In my previous experiments, I wasn't making any metrics"
   ]
  },
  {
   "cell_type": "code",
   "execution_count": 43,
   "id": "a525ad20-80c6-4fa4-a4ba-fe8347a659cb",
   "metadata": {},
   "outputs": [],
   "source": [
    "with torch.no_grad(): weights[0] *= 1.0001"
   ]
  },
  {
   "cell_type": "code",
   "execution_count": 44,
   "id": "6bbe8e8a-29d8-4bac-918a-226f697afbe6",
   "metadata": {},
   "outputs": [
    {
     "data": {
      "text/plain": [
       "(tensor(0.7007), 0.700709879398346)"
      ]
     },
     "execution_count": 44,
     "metadata": {},
     "output_type": "execute_result"
    }
   ],
   "source": [
    "preds = linear1(train_x)\n",
    "corrects_2 = ((preds>0.0).float() == train_y).float().mean()\n",
    "corrects_2, corrects_2.item()"
   ]
  },
  {
   "cell_type": "code",
   "execution_count": 46,
   "id": "6ed98d00-f820-4899-8590-ac0cce0a24da",
   "metadata": {},
   "outputs": [],
   "source": [
    "def mnist_loss(preds, targets):\n",
    "    preds = preds.sigmoid()\n",
    "    return torch.where(targets==1, 1-preds, preds).mean()"
   ]
  },
  {
   "cell_type": "code",
   "execution_count": 50,
   "id": "78d83f46-fef6-43d2-be88-3926c3b3ed63",
   "metadata": {},
   "outputs": [
    {
     "data": {
      "text/plain": [
       "(torch.Size([256, 784]), torch.Size([256, 1]))"
      ]
     },
     "execution_count": 50,
     "metadata": {},
     "output_type": "execute_result"
    }
   ],
   "source": [
    "from fastai.data.load import DataLoader,first\n",
    "\n",
    "dl = DataLoader(dset, batch_size=256)\n",
    "xb, yb = first(dl)\n",
    "xb.shape, yb.shape"
   ]
  },
  {
   "cell_type": "code",
   "execution_count": 51,
   "id": "0639e4c9-9825-46f9-bead-0583e35fe449",
   "metadata": {},
   "outputs": [],
   "source": [
    "valid_dl = DataLoader(valid_dset, batch_size=256)"
   ]
  },
  {
   "cell_type": "code",
   "execution_count": 52,
   "id": "66de3a8f-470f-4ad7-9ef1-997fc657b085",
   "metadata": {},
   "outputs": [
    {
     "data": {
      "text/plain": [
       "torch.Size([4, 784])"
      ]
     },
     "execution_count": 52,
     "metadata": {},
     "output_type": "execute_result"
    }
   ],
   "source": [
    "batch = train_x[:4]\n",
    "batch.shape"
   ]
  },
  {
   "cell_type": "code",
   "execution_count": 53,
   "id": "a5830f82-7c12-403b-b161-963ae5066aa3",
   "metadata": {},
   "outputs": [
    {
     "data": {
      "text/plain": [
       "tensor([[ 6.6882],\n",
       "        [ 7.1473],\n",
       "        [-9.1151],\n",
       "        [-4.5785]], grad_fn=<AddBackward0>)"
      ]
     },
     "execution_count": 53,
     "metadata": {},
     "output_type": "execute_result"
    }
   ],
   "source": [
    "preds = linear1(batch)\n",
    "preds"
   ]
  },
  {
   "cell_type": "code",
   "execution_count": 54,
   "id": "9160c175-7351-4af4-a5c4-fbb01257463f",
   "metadata": {},
   "outputs": [
    {
     "data": {
      "text/plain": [
       "tensor(0.4979, grad_fn=<MeanBackward0>)"
      ]
     },
     "execution_count": 54,
     "metadata": {},
     "output_type": "execute_result"
    }
   ],
   "source": [
    "loss = mnist_loss(preds, train_y[:4])\n",
    "loss"
   ]
  },
  {
   "cell_type": "code",
   "execution_count": 55,
   "id": "76b134cd-350a-4720-9b75-6b5427ae1350",
   "metadata": {},
   "outputs": [
    {
     "data": {
      "text/plain": [
       "(torch.Size([784, 1]), tensor(-0.0005), tensor([-0.0031]))"
      ]
     },
     "execution_count": 55,
     "metadata": {},
     "output_type": "execute_result"
    }
   ],
   "source": [
    "loss.backward()\n",
    "weights.grad.shape, weights.grad.mean(), bias.grad"
   ]
  },
  {
   "cell_type": "code",
   "execution_count": 56,
   "id": "c1107672-cd97-4ea7-81cd-a4187ac54884",
   "metadata": {},
   "outputs": [],
   "source": [
    "def calc_grad(xb, yb, model):\n",
    "    preds = model(xb)\n",
    "    loss = mnist_loss(preds, yb)\n",
    "    loss.backward()"
   ]
  },
  {
   "cell_type": "code",
   "execution_count": 61,
   "id": "36903c10-1ae1-470b-8312-6ab300ae1cdb",
   "metadata": {},
   "outputs": [],
   "source": [
    "# This works to zero the grad, but the notebook was doing `weights.grad.zero_()`.\n",
    "# That doesn't work for me, and I've seen a few different ways of doing it. \n",
    "# Will look more into that at some point.\n",
    "\n",
    "weights.grad = None\n",
    "bias.grad = None"
   ]
  },
  {
   "cell_type": "code",
   "execution_count": 63,
   "id": "61ba3ee6-a338-4e6c-8228-c8fc4fa4bcbd",
   "metadata": {},
   "outputs": [],
   "source": [
    "def train_epoch(model, lr, params):\n",
    "    for xb, yb in dl:\n",
    "        calc_grad(xb, yb, linear1)\n",
    "        for param in params:\n",
    "            param.data -= param.grad * lr\n",
    "            param.grad = None"
   ]
  },
  {
   "cell_type": "code",
   "execution_count": 64,
   "id": "e842a2d6-428c-44f0-adac-6c03e1e88299",
   "metadata": {},
   "outputs": [
    {
     "data": {
      "text/plain": [
       "tensor([[ True],\n",
       "        [ True],\n",
       "        [False],\n",
       "        [False]])"
      ]
     },
     "execution_count": 64,
     "metadata": {},
     "output_type": "execute_result"
    }
   ],
   "source": [
    "(preds>0.0).float() == train_y[:4]"
   ]
  },
  {
   "cell_type": "code",
   "execution_count": 65,
   "id": "56c8e576-f5d7-45ae-a4f3-28f16b22912d",
   "metadata": {},
   "outputs": [],
   "source": [
    "def batch_accuracy(xb, yb):\n",
    "    preds = xb.sigmoid()\n",
    "    correct = (preds>0.5) == yb\n",
    "    return correct.float().mean()"
   ]
  },
  {
   "cell_type": "code",
   "execution_count": 66,
   "id": "43bfac91-f4f8-4990-8758-8c4eec668990",
   "metadata": {},
   "outputs": [
    {
     "data": {
      "text/plain": [
       "tensor(0.5000)"
      ]
     },
     "execution_count": 66,
     "metadata": {},
     "output_type": "execute_result"
    }
   ],
   "source": [
    "batch_accuracy(linear1(batch), train_y[:4])"
   ]
  },
  {
   "cell_type": "code",
   "execution_count": 67,
   "id": "f12b223b-0a33-4928-98c3-cd883f85fb32",
   "metadata": {},
   "outputs": [],
   "source": [
    "def validate_epoch(model):\n",
    "    accs = [batch_accuracy(model(xb), yb) for xb,yb in valid_dl]\n",
    "    return round(torch.stack(accs).mean().item(), 4)"
   ]
  },
  {
   "cell_type": "code",
   "execution_count": 68,
   "id": "3fa2b58f-1a8d-446c-8cfd-33c3a3667a9e",
   "metadata": {},
   "outputs": [
    {
     "data": {
      "text/plain": [
       "0.6923"
      ]
     },
     "execution_count": 68,
     "metadata": {},
     "output_type": "execute_result"
    }
   ],
   "source": [
    "validate_epoch(linear1)"
   ]
  },
  {
   "cell_type": "code",
   "execution_count": 69,
   "id": "2d1d95be-33a8-4e09-9f30-c6242c3fc585",
   "metadata": {},
   "outputs": [
    {
     "data": {
      "text/plain": [
       "0.769"
      ]
     },
     "execution_count": 69,
     "metadata": {},
     "output_type": "execute_result"
    }
   ],
   "source": [
    "lr = 1.\n",
    "params = weights,bias\n",
    "train_epoch(linear1, lr, params)\n",
    "validate_epoch(linear1)"
   ]
  },
  {
   "cell_type": "code",
   "execution_count": 70,
   "id": "74275fdb-a142-4b17-8ec8-f725e0965fd1",
   "metadata": {},
   "outputs": [
    {
     "name": "stdout",
     "output_type": "stream",
     "text": [
      "0.8935 0.9296 0.9394 0.9511 0.9531 0.956 0.9575 0.9609 0.9633 0.9629 0.9638 0.9638 0.9648 0.9663 0.9673 0.9682 0.9687 0.9692 0.9697 0.9697 "
     ]
    }
   ],
   "source": [
    "for i in range(20):\n",
    "    train_epoch(linear1, lr, params)\n",
    "    print(validate_epoch(linear1), end=' ')"
   ]
  },
  {
   "cell_type": "markdown",
   "id": "b7129372-02f6-4267-98b2-cb73853b3653",
   "metadata": {},
   "source": [
    "### Creating An Optimizer"
   ]
  },
  {
   "cell_type": "code",
   "execution_count": 72,
   "id": "c3b4ddf3-e599-4e50-af36-a0be8c0942a5",
   "metadata": {},
   "outputs": [],
   "source": [
    "from torch import nn\n",
    "\n",
    "linear_model = nn.Linear(28*28, 1)"
   ]
  },
  {
   "cell_type": "code",
   "execution_count": 73,
   "id": "eff58e11-06a3-4ceb-a5fa-3a88262aa90d",
   "metadata": {},
   "outputs": [
    {
     "data": {
      "text/plain": [
       "(torch.Size([1, 784]), torch.Size([1]))"
      ]
     },
     "execution_count": 73,
     "metadata": {},
     "output_type": "execute_result"
    }
   ],
   "source": [
    "w,b = linear_model.parameters()\n",
    "w.shape, b.shape"
   ]
  },
  {
   "cell_type": "markdown",
   "id": "5e51565d-83c0-4275-a457-a25c10c4a7ce",
   "metadata": {},
   "source": [
    "Okay, so we make an optimizer below. An optimizer appears to be just a wrapper class around adjusting the gradients. In other words, it does the \"optimizing\", stepping us closer to a set of parameters that does the job we want.\n",
    "\n",
    "What's sort of counter-intuitive to me is that, I would think that an optimizer would also find the gradients, or find the direction to optimize, but of course that's done under the hood with PyTorch."
   ]
  },
  {
   "cell_type": "code",
   "execution_count": 75,
   "id": "98797894-eb53-4ff2-961f-b1ce0b6b5adb",
   "metadata": {},
   "outputs": [],
   "source": [
    "class BasicOptim:\n",
    "    def __init__(self, params, lr): self.params, self.lr = list(params), lr\n",
    "    \n",
    "    def step(self, *args, **kwargs):\n",
    "        for p in self.params: p.data -= p.grad.data * self.lr\n",
    "        \n",
    "    def zero_grad(self, *args, **kwargs):\n",
    "        for p in self.params: p.grad = None"
   ]
  },
  {
   "cell_type": "code",
   "execution_count": 76,
   "id": "78a2fb84-6f28-4acf-b61a-dbd0ebaa5015",
   "metadata": {},
   "outputs": [],
   "source": [
    "# We're passing the new model's parameters here. It seems like our class is just holding a reference to the parameters here.\n",
    "# I'd like to look more into how pass-by-reference works in Python...\n",
    "\n",
    "opt = BasicOptim(linear_model.parameters(), lr)"
   ]
  },
  {
   "cell_type": "code",
   "execution_count": 77,
   "id": "81432d29-a0ee-4bc2-b01b-89c5b3cc7d87",
   "metadata": {},
   "outputs": [],
   "source": [
    "def train_epoch(model):\n",
    "    for xb, yb in dl:\n",
    "        calc_grad(xb, yb, model)\n",
    "        opt.step()\n",
    "        opt.zero_grad()"
   ]
  },
  {
   "cell_type": "code",
   "execution_count": 78,
   "id": "cab83663-df73-4065-bb39-a9450b8ee0ca",
   "metadata": {},
   "outputs": [
    {
     "data": {
      "text/plain": [
       "0.5063"
      ]
     },
     "execution_count": 78,
     "metadata": {},
     "output_type": "execute_result"
    }
   ],
   "source": [
    "validate_epoch(linear_model)"
   ]
  },
  {
   "cell_type": "code",
   "execution_count": 79,
   "id": "1e68618a-8456-4e70-a242-0bcce413d4b9",
   "metadata": {},
   "outputs": [],
   "source": [
    "def train_model(model, epochs):\n",
    "    for i in range(epochs):\n",
    "        train_epoch(model)\n",
    "        print(validate_epoch(model), end=' ')"
   ]
  },
  {
   "cell_type": "code",
   "execution_count": 80,
   "id": "8d1f1dd2-382c-4497-af73-28dacaadd358",
   "metadata": {},
   "outputs": [
    {
     "name": "stdout",
     "output_type": "stream",
     "text": [
      "0.4932 0.6782 0.8682 0.9185 0.9355 0.9502 0.9565 0.9634 0.9663 0.9692 0.9702 0.9712 0.9736 0.9751 0.9756 0.977 0.9775 0.978 0.978 0.979 "
     ]
    }
   ],
   "source": [
    "train_model(linear_model, 20)"
   ]
  },
  {
   "cell_type": "markdown",
   "id": "783c2c51-ce43-4b27-8728-1c94cf0175c6",
   "metadata": {},
   "source": [
    "Okay, so here we swap out our hand-written optimizer with Pytorch's. Seems simple enough.\n",
    "\n",
    "The current building blocks:\n",
    "- optimizer (Pytorch)\n",
    "- model (linear, Pytorch)\n",
    "- dataloader (fast.ai)"
   ]
  },
  {
   "cell_type": "code",
   "execution_count": 96,
   "id": "28f097b6-1b52-4a10-b921-da6519adee5c",
   "metadata": {},
   "outputs": [
    {
     "name": "stdout",
     "output_type": "stream",
     "text": [
      "0.4932 0.8555 0.8242 0.9097 0.9307 0.9468 0.9546 0.9619 0.9658 0.9678 0.9697 0.9721 0.9731 0.9751 0.9756 0.977 0.9775 0.9775 0.9785 0.9785 "
     ]
    }
   ],
   "source": [
    "# The book uses the fastai SGD class, not the torch one. Wrapper, perhaps?\n",
    "\n",
    "# from torch.optim import SGD\n",
    "from fastai.optimizer import SGD\n",
    "\n",
    "linear_model = nn.Linear(28*28, 1)\n",
    "opt = SGD(linear_model.parameters(), lr)\n",
    "train_model(linear_model, 20)"
   ]
  },
  {
   "cell_type": "code",
   "execution_count": 89,
   "id": "1bb0f257-9d54-4603-b1fd-d6cc6769dfa7",
   "metadata": {},
   "outputs": [],
   "source": [
    "# I'm not sure why Dataloaders is in vision.data.\n",
    "from fastai.vision.data import DataLoaders\n",
    "\n",
    "dls = DataLoaders(dl, valid_dl)"
   ]
  },
  {
   "cell_type": "code",
   "execution_count": 102,
   "id": "29ede6fc-6f79-40fb-abb9-ad20a50c28d3",
   "metadata": {},
   "outputs": [],
   "source": [
    "# This import took a bit to find. Remember: if you're doing a vision task, the import is likely in the vision package.\n",
    "# ...but the Learner doesn't seem specific to visual learning tasks. I don't yet get the API organization.\n",
    "from fastai.vision.all import Learner\n",
    "\n",
    "learn = Learner(dls, nn.Linear(28*28, 1), opt_func=SGD,\n",
    "                loss_func=mnist_loss, metrics=batch_accuracy)"
   ]
  },
  {
   "cell_type": "code",
   "execution_count": 103,
   "id": "b8358f21-7aa2-47cd-afdf-b359280df1c5",
   "metadata": {},
   "outputs": [
    {
     "name": "stdout",
     "output_type": "stream",
     "text": [
      "epoch     train_loss  valid_loss  batch_accuracy  time    \n",
      "0         0.636967    0.503341    0.495584        00:00                                   \n",
      "1         0.479990    0.199110    0.828263        00:00                                   \n",
      "2         0.177616    0.172960    0.845927        00:00                                   \n",
      "3         0.078642    0.104063    0.914132        00:00                                   \n",
      "4         0.042199    0.076557    0.933759        00:00                                   \n",
      "5         0.027961    0.061592    0.947498        00:00                                   \n",
      "6         0.022103    0.052229    0.954858        00:00                                   \n",
      "7         0.019489    0.045972    0.963199        00:00                                   \n",
      "8         0.018152    0.041561    0.965162        00:00                                   \n",
      "9         0.017341    0.038304    0.966634        00:00                                    \n"
     ]
    }
   ],
   "source": [
    "learn.fit(10, lr=lr)"
   ]
  },
  {
   "cell_type": "markdown",
   "id": "2817d1cd-cbcd-448a-86f7-bac1fce085f4",
   "metadata": {},
   "source": [
    "Now, the pieces:\n",
    "- Learner (fastai)\n",
    "- Dataloaders (fastai, wrapper around a couple Pytorch Dataloaders)\n",
    "- Model (linear, Pytorch)\n",
    "- Optimizer (SGD, fastai in this case)\n",
    "- Loss Function (hand-written above)\n",
    "- Metrics (hand-written above)\n",
    "- Parameter initialization (hand-written above)"
   ]
  },
  {
   "cell_type": "markdown",
   "id": "de7f8f84-b3da-4a5c-9939-3c8caddef13c",
   "metadata": {},
   "source": [
    "### Adding a Nonlinearity"
   ]
  },
  {
   "cell_type": "code",
   "execution_count": 104,
   "id": "815aa980-6974-4461-83bd-495cdfac8846",
   "metadata": {},
   "outputs": [],
   "source": [
    "def simple_net(xb):\n",
    "    res = xb@w1 + b1\n",
    "    res = res.max(tensor(0.0))\n",
    "    res = res@w2 + b2\n",
    "    return res"
   ]
  },
  {
   "cell_type": "code",
   "execution_count": 105,
   "id": "eadc475f-56b2-4ef0-8b30-2b5297b30b2e",
   "metadata": {},
   "outputs": [],
   "source": [
    "w1 = init_params((28*28, 30))\n",
    "b1 = init_params(30)\n",
    "w2 = init_params((30,1))\n",
    "b2 = init_params(1)"
   ]
  },
  {
   "cell_type": "code",
   "execution_count": 110,
   "id": "757e5e88-985d-46c1-b479-6feaf74c9267",
   "metadata": {},
   "outputs": [],
   "source": [
    "# This plot_function is from fastbook. Didn't get the import right, but \n",
    "# did have the actual function handy...so here it is!\n",
    "import matplotlib.pyplot as plt\n",
    "import torch\n",
    "\n",
    "plt.rc('figure', dpi=90)\n",
    "\n",
    "def plot_function(f, title=None, min=-2.1, max=2.1, color='r', ylim=None):\n",
    "    x = torch.linspace(min,max, 100)[:,None]\n",
    "    if ylim: plt.ylim(ylim)\n",
    "    plt.plot(x, f(x), color)\n",
    "    if title is not None: plt.title(title)"
   ]
  },
  {
   "cell_type": "code",
   "execution_count": 112,
   "id": "31a5c48d-f3a5-4160-9cb0-cc228a3cd9d7",
   "metadata": {},
   "outputs": [
    {
     "data": {
      "image/png": "[encoded data removed]",
      "text/plain": [
       "<Figure size 576x432 with 1 Axes>"
      ]
     },
     "metadata": {},
     "output_type": "display_data"
    }
   ],
   "source": [
    "import torch.nn.functional as F\n",
    "\n",
    "plot_function(F.relu)"
   ]
  },
  {
   "cell_type": "code",
   "execution_count": 114,
   "id": "6cadb5a5-9ec9-487d-b59a-2b08115e363b",
   "metadata": {},
   "outputs": [],
   "source": [
    "simple_net = nn.Sequential(\n",
    "    nn.Linear(28*28, 30),\n",
    "    nn.ReLU(),\n",
    "    nn.Linear(30, 1)\n",
    ")"
   ]
  },
  {
   "cell_type": "code",
   "execution_count": 115,
   "id": "53cc515b-8073-4a9f-b696-c52f1f7589e6",
   "metadata": {},
   "outputs": [],
   "source": [
    "learn = Learner(dls, simple_net, opt_func=SGD,\n",
    "                loss_func=mnist_loss, metrics=batch_accuracy)"
   ]
  },
  {
   "cell_type": "code",
   "execution_count": 116,
   "id": "8556dcc4-2bac-406e-9b6f-b365be809e2f",
   "metadata": {},
   "outputs": [
    {
     "name": "stdout",
     "output_type": "stream",
     "text": [
      "epoch     train_loss  valid_loss  batch_accuracy  time    \n",
      "0         0.320869    0.414213    0.504907        00:00                                   \n",
      "1         0.148934    0.231269    0.798822        00:00                                   \n",
      "2         0.081772    0.116471    0.914622        00:00                                   \n",
      "3         0.053339    0.078551    0.941119        00:00                                   \n",
      "4         0.040247    0.061231    0.954858        00:00                                   \n",
      "5         0.033615    0.051519    0.963199        00:00                                   \n",
      "6         0.029837    0.045397    0.966143        00:00                                   \n",
      "7         0.027397    0.041219    0.967615        00:00                                   \n",
      "8         0.025646    0.038173    0.969087        00:00                                   \n",
      "9         0.024293    0.035849    0.969578        00:00                                    \n",
      "10        0.023198    0.034006    0.971050        00:00                                    \n",
      "11        0.022285    0.032499    0.973013        00:00                                    \n",
      "12        0.021508    0.031230    0.974975        00:00                                    \n",
      "13        0.020836    0.030141    0.974975        00:00                                    \n",
      "14        0.020247    0.029192    0.975466        00:00                                    \n",
      "15        0.019725    0.028356    0.976448        00:00                                    \n",
      "16        0.019259    0.027612    0.976938        00:00                                    \n",
      "17        0.018837    0.026945    0.976938        00:00                                    \n",
      "18        0.018455    0.026342    0.978410        00:00                                    \n",
      "19        0.018104    0.025796    0.978901        00:00                                    \n",
      "20        0.017782    0.025298    0.979392        00:00                                    \n",
      "21        0.017483    0.024843    0.979392        00:00                                    \n",
      "22        0.017205    0.024424    0.980373        00:00                                    \n",
      "23        0.016946    0.024040    0.980373        00:00                                    \n",
      "24        0.016702    0.023685    0.980864        00:00                                    \n",
      "25        0.016472    0.023357    0.981354        00:00                                    \n",
      "26        0.016256    0.023052    0.981845        00:00                                    \n",
      "27        0.016050    0.022769    0.981845        00:00                                    \n",
      "28        0.015855    0.022506    0.982336        00:00                                    \n",
      "29        0.015669    0.022261    0.982826        00:00                                    \n",
      "30        0.015492    0.022032    0.982826        00:00                                    \n",
      "31        0.015323    0.021818    0.983317        00:00                                    \n",
      "32        0.015161    0.021617    0.983317        00:00                                    \n",
      "33        0.015007    0.021429    0.983808        00:00                                    \n",
      "34        0.014858    0.021251    0.982826        00:00                                    \n",
      "35        0.014716    0.021084    0.982826        00:00                                    \n",
      "36        0.014579    0.020926    0.982826        00:00                                    \n",
      "37        0.014448    0.020777    0.982826        00:00                                    \n",
      "38        0.014321    0.020635    0.982826        00:00                                    \n",
      "39        0.014199    0.020501    0.982826        00:00                                    \n"
     ]
    }
   ],
   "source": [
    "learn.fit(40, 0.1)"
   ]
  },
  {
   "cell_type": "code",
   "execution_count": 120,
   "id": "58f2b16d-7e69-4efb-adff-e67ee7ede592",
   "metadata": {},
   "outputs": [
    {
     "data": {
      "image/png": "[encoded data removed]",
      "text/plain": [
       "<Figure size 576x432 with 1 Axes>"
      ]
     },
     "metadata": {},
     "output_type": "display_data"
    }
   ],
   "source": [
    "from fastcore.all import L\n",
    "\n",
    "plt.plot(L(learn.recorder.values).itemgot(2));"
   ]
  },
  {
   "cell_type": "code",
   "execution_count": 124,
   "id": "8e54613b-0a5b-4199-9bfc-d1c5658d9987",
   "metadata": {},
   "outputs": [
    {
     "data": {
      "text/plain": [
       "(#3) [0.014198634773492813,0.02050146274268627,0.982826292514801]"
      ]
     },
     "execution_count": 124,
     "metadata": {},
     "output_type": "execute_result"
    }
   ],
   "source": [
    "learn.recorder.values[-1]"
   ]
  },
  {
   "cell_type": "markdown",
   "id": "90c0e90b-f9a5-4e96-bf36-dd9d7dfd8ba4",
   "metadata": {},
   "source": [
    "### Going Deeper"
   ]
  },
  {
   "cell_type": "code",
   "execution_count": 130,
   "id": "4aaf3cd3-d56e-4399-9382-956730cfb6c2",
   "metadata": {},
   "outputs": [
    {
     "name": "stdout",
     "output_type": "stream",
     "text": [
      "epoch     train_loss  valid_loss  accuracy  time    \n",
      "0         0.093238    0.011708    0.997547  00:07                                          \n"
     ]
    }
   ],
   "source": [
    "from fastai.vision.all import ImageDataLoaders, vision_learner, resnet18, accuracy\n",
    "\n",
    "dls = ImageDataLoaders.from_folder(path)\n",
    "learn = vision_learner(dls, resnet18, pretrained=False,\n",
    "                       loss_func=F.cross_entropy, metrics=accuracy)\n",
    "learn.fit_one_cycle(1, 0.1)"
   ]
  }
 ],
 "metadata": {
  "kernelspec": {
   "display_name": "Python 3 (ipykernel)",
   "language": "python",
   "name": "python3"
  },
  "language_info": {
   "codemirror_mode": {
    "name": "ipython",
    "version": 3
   },
   "file_extension": ".py",
   "mimetype": "text/x-python",
   "name": "python",
   "nbconvert_exporter": "python",
   "pygments_lexer": "ipython3",
   "version": "3.10.4"
  }
 },
 "nbformat": 4,
 "nbformat_minor": 5
}
