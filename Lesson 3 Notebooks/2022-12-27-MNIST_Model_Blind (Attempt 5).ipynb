{
 "cells": [
  {
   "cell_type": "markdown",
   "id": "aaf8f751-48a7-411e-a432-a8b689598887",
   "metadata": {},
   "source": [
    "# MNIST Model From \"Scratch\" -- Attempt 5"
   ]
  },
  {
   "cell_type": "markdown",
   "id": "bbbbec28-ec69-4f83-bfd8-8c495b97add0",
   "metadata": {},
   "source": [
    "Goal: To reproduce the third piece of Chapter 4, in which we move from the \"from scratch\" way to utilizing fastai Learners and pytorch nets."
   ]
  },
  {
   "cell_type": "markdown",
   "id": "9d986f67-a3ad-4ca9-8f69-7a3269076795",
   "metadata": {},
   "source": [
    "### Copied Piece \n",
    "Mostly my own way, but also checking shapes with the reference along the way."
   ]
  },
  {
   "cell_type": "code",
   "execution_count": 1,
   "id": "7ef869b6-bf8d-4459-bfae-474b1036a354",
   "metadata": {},
   "outputs": [],
   "source": [
    "from fastai.data.all import untar_data, URLs\n",
    "from pathlib import Path\n",
    "from PIL import Image\n",
    "import torch\n",
    "from numpy import *\n",
    "\n",
    "path = untar_data(URLs.MNIST_SAMPLE)\n",
    "Path.BASE_PATH = path\n",
    "threes = (path/'train'/'3').ls().sorted()\n",
    "sevens = (path/'train'/'7').ls().sorted()\n",
    "seven_tensors = [torch.as_tensor(array(Image.open(o))) for o in sevens]\n",
    "three_tensors = [torch.as_tensor(array(Image.open(o))) for o in threes]"
   ]
  },
  {
   "cell_type": "code",
   "execution_count": 2,
   "id": "a180c5f3-353c-44c3-9b92-64416149ea4b",
   "metadata": {},
   "outputs": [
    {
     "data": {
      "text/plain": [
       "(torch.Size([6265, 28, 28]), torch.Size([6131, 28, 28]))"
      ]
     },
     "execution_count": 2,
     "metadata": {},
     "output_type": "execute_result"
    }
   ],
   "source": [
    "stacked_sevens = torch.stack(seven_tensors).float() / 255\n",
    "stacked_threes = torch.stack(three_tensors).float() / 255\n",
    "stacked_sevens.shape, stacked_threes.shape"
   ]
  },
  {
   "cell_type": "code",
   "execution_count": 3,
   "id": "62e39077-d64f-498a-bbb3-d9bfb6f25e0c",
   "metadata": {},
   "outputs": [
    {
     "data": {
      "text/plain": [
       "torch.Size([12396, 784])"
      ]
     },
     "execution_count": 3,
     "metadata": {},
     "output_type": "execute_result"
    }
   ],
   "source": [
    "train_x = torch.cat([stacked_threes, stacked_sevens]).view(-1, 28*28)\n",
    "train_x.shape"
   ]
  },
  {
   "cell_type": "code",
   "execution_count": 4,
   "id": "19cda1da-9b2b-4f58-95f2-188b16625743",
   "metadata": {},
   "outputs": [
    {
     "data": {
      "text/plain": [
       "(torch.Size([12396, 784]), torch.Size([12396, 1]))"
      ]
     },
     "execution_count": 4,
     "metadata": {},
     "output_type": "execute_result"
    }
   ],
   "source": [
    "# This might be where I messed up last time...\n",
    "\n",
    "train_y = torch.as_tensor(\n",
    "    array([1]*len(threes) + [0]*len(sevens))\n",
    ").unsqueeze(1)\n",
    "train_x.shape,train_y.shape"
   ]
  },
  {
   "cell_type": "code",
   "execution_count": 5,
   "id": "cc39ccec-140c-4bc9-b9c1-3c9787c58a7b",
   "metadata": {},
   "outputs": [
    {
     "data": {
      "text/plain": [
       "(torch.Size([784]), tensor([1]))"
      ]
     },
     "execution_count": 5,
     "metadata": {},
     "output_type": "execute_result"
    }
   ],
   "source": [
    "dset = list(zip(train_x,train_y))\n",
    "x,y = dset[0]\n",
    "x.shape,y"
   ]
  },
  {
   "cell_type": "code",
   "execution_count": 6,
   "id": "9c534930-1527-405a-9541-5c4950a87cff",
   "metadata": {},
   "outputs": [
    {
     "data": {
      "text/plain": [
       "(torch.Size([1010, 28, 28]), torch.Size([1028, 28, 28]))"
      ]
     },
     "execution_count": 6,
     "metadata": {},
     "output_type": "execute_result"
    }
   ],
   "source": [
    "valid_3_tens = torch.stack([torch.as_tensor(array(Image.open(o))) \n",
    "                            for o in (path/'valid'/'3').ls()])\n",
    "valid_3_tens = valid_3_tens.float()/255\n",
    "valid_7_tens = torch.stack([torch.as_tensor(array(Image.open(o))) \n",
    "                            for o in (path/'valid'/'7').ls()])\n",
    "valid_7_tens = valid_7_tens.float()/255\n",
    "valid_3_tens.shape,valid_7_tens.shape"
   ]
  },
  {
   "cell_type": "code",
   "execution_count": 7,
   "id": "dd00ac71-0b11-44c0-a31a-965a71af1ab8",
   "metadata": {},
   "outputs": [],
   "source": [
    "valid_x = torch.cat([valid_3_tens, valid_7_tens]).view(-1, 28*28)\n",
    "valid_y = torch.as_tensor(array([1]*len(valid_3_tens) + [0]*len(valid_7_tens))).unsqueeze(1)\n",
    "valid_dset = list(zip(valid_x,valid_y))"
   ]
  },
  {
   "cell_type": "code",
   "execution_count": 8,
   "id": "8b39a60e-8ebc-49dc-9d71-8c74b8c47366",
   "metadata": {},
   "outputs": [],
   "source": [
    "def param_init(shape): return torch.randn(shape).requires_grad_()"
   ]
  },
  {
   "cell_type": "code",
   "execution_count": 9,
   "id": "dcce1d9b-003f-43f4-af2b-df85ba3b901d",
   "metadata": {},
   "outputs": [
    {
     "data": {
      "text/plain": [
       "(torch.Size([784, 1]), torch.Size([1]))"
      ]
     },
     "execution_count": 9,
     "metadata": {},
     "output_type": "execute_result"
    }
   ],
   "source": [
    "weights = param_init((28*28, 1))\n",
    "bias = param_init(1)\n",
    "weights.shape, bias.shape"
   ]
  },
  {
   "cell_type": "code",
   "execution_count": 10,
   "id": "56615233-352d-4ba4-9198-0bbc7fc4643b",
   "metadata": {},
   "outputs": [
    {
     "data": {
      "text/plain": [
       "(tensor([[ 0.8479],\n",
       "         [-2.1539],\n",
       "         [-0.1274],\n",
       "         [ 0.0936],\n",
       "         [-1.0767]], grad_fn=<SliceBackward0>),\n",
       " tensor([-0.0205], requires_grad=True))"
      ]
     },
     "execution_count": 10,
     "metadata": {},
     "output_type": "execute_result"
    }
   ],
   "source": [
    "weights[0:5], bias"
   ]
  },
  {
   "cell_type": "code",
   "execution_count": 11,
   "id": "ae2556b2-b010-450e-8c2a-8a24ad3a4e0e",
   "metadata": {},
   "outputs": [],
   "source": [
    "def mnist_loss(preds, tars): return torch.where(tars == 1, 1-preds, preds).mean()"
   ]
  },
  {
   "cell_type": "code",
   "execution_count": 12,
   "id": "707cd526-5a29-4d97-86c2-a5de1c965ac9",
   "metadata": {},
   "outputs": [],
   "source": [
    "def accuracy(preds, tars): return ((preds > 0.5) == tars).float().mean()"
   ]
  },
  {
   "cell_type": "code",
   "execution_count": 13,
   "id": "a825a20d-d2ad-41ea-964b-6f6d8c38f694",
   "metadata": {},
   "outputs": [
    {
     "data": {
      "text/plain": [
       "(0.6666666865348816, 0.3333333432674408)"
      ]
     },
     "execution_count": 13,
     "metadata": {},
     "output_type": "execute_result"
    }
   ],
   "source": [
    "test_preds = torch.as_tensor([0.4, 0.7, 0.1])\n",
    "test_tars = torch.as_tensor([0, 0, 1])\n",
    "test_loss = mnist_loss(test_preds, test_tars)\n",
    "test_acc = accuracy(test_preds, test_tars)\n",
    "test_loss.item(), test_acc.item()"
   ]
  },
  {
   "cell_type": "code",
   "execution_count": 14,
   "id": "02481cac-4600-44d9-b55c-188f2b534f7f",
   "metadata": {},
   "outputs": [],
   "source": [
    "def step(lr=1):\n",
    "    for p in (weights, bias):\n",
    "        p.data -= p.grad * lr\n",
    "        p.grad = None"
   ]
  },
  {
   "cell_type": "code",
   "execution_count": 15,
   "id": "812c0455-3a33-4635-88a6-24f455a64f5a",
   "metadata": {},
   "outputs": [],
   "source": [
    "def linNet(xb): return xb@weights + bias"
   ]
  },
  {
   "cell_type": "code",
   "execution_count": 16,
   "id": "e6f04188-c599-435b-acf3-6ba3d234d61c",
   "metadata": {},
   "outputs": [
    {
     "data": {
      "text/plain": [
       "(torch.Size([256, 784]), torch.Size([256, 1]))"
      ]
     },
     "execution_count": 16,
     "metadata": {},
     "output_type": "execute_result"
    }
   ],
   "source": [
    "from fastai.data.load import DataLoader\n",
    "\n",
    "dset = DataLoader(dset, bs=256)\n",
    "dset.one_batch()[0].shape, dset.one_batch()[1].shape"
   ]
  },
  {
   "cell_type": "code",
   "execution_count": 17,
   "id": "91e9b719-8ef2-416b-94f1-7d28679861c7",
   "metadata": {},
   "outputs": [],
   "source": [
    "def one_epoch():\n",
    "    for xb, yb in dset:\n",
    "        preds = linNet(xb).sigmoid_()\n",
    "        loss = mnist_loss(preds, yb)\n",
    "        # print(f\"preds: {preds[10:12]}, yb: {yb[10:12]}, loss: {loss}\")\n",
    "        loss.backward()\n",
    "        step()"
   ]
  },
  {
   "cell_type": "code",
   "execution_count": 18,
   "id": "27884eeb-777c-40f1-8799-c61f5363f389",
   "metadata": {},
   "outputs": [],
   "source": [
    "def get_accuracy():\n",
    "    with torch.no_grad():\n",
    "        acc = torch.as_tensor([accuracy(linNet(xb).sigmoid_(), yb) for xb, yb in valid_dset]).mean()\n",
    "    return acc"
   ]
  },
  {
   "cell_type": "code",
   "execution_count": 19,
   "id": "0b2f63c9-f48f-493b-a735-586a66c2c981",
   "metadata": {},
   "outputs": [
    {
     "data": {
      "text/plain": [
       "tensor(0.3273)"
      ]
     },
     "execution_count": 19,
     "metadata": {},
     "output_type": "execute_result"
    }
   ],
   "source": [
    "get_accuracy()"
   ]
  },
  {
   "cell_type": "code",
   "execution_count": 20,
   "id": "7b5f9b0b-40fa-4469-b4e6-2bf904ed7632",
   "metadata": {},
   "outputs": [
    {
     "data": {
      "text/plain": [
       "tensor(0.6546)"
      ]
     },
     "execution_count": 20,
     "metadata": {},
     "output_type": "execute_result"
    }
   ],
   "source": [
    "one_epoch()\n",
    "get_accuracy()"
   ]
  },
  {
   "cell_type": "code",
   "execution_count": 21,
   "id": "545f633a-2ba1-4f3e-81e1-577156a6250d",
   "metadata": {},
   "outputs": [],
   "source": [
    "def run_n_epochs(n):\n",
    "    for i in range(n):\n",
    "        one_epoch()\n",
    "        print(f\"acc: {round(get_accuracy().item(), 4)}, loss: {round(calc_loss().item(), 4)}\")"
   ]
  },
  {
   "cell_type": "code",
   "execution_count": 22,
   "id": "7b270c80-b475-4b12-b19e-33064912c002",
   "metadata": {},
   "outputs": [],
   "source": [
    "def calc_loss():\n",
    "    with torch.no_grad():\n",
    "        return torch.as_tensor([mnist_loss(linNet(xb).sigmoid_(), yb) for xb, yb in dset]).mean()"
   ]
  },
  {
   "cell_type": "code",
   "execution_count": 23,
   "id": "27c39115-9986-484d-be1d-80527b41b9c8",
   "metadata": {},
   "outputs": [
    {
     "name": "stdout",
     "output_type": "stream",
     "text": [
      "acc: 0.6658, loss: 0.3273\n",
      "acc: 0.842, loss: 0.1613\n",
      "acc: 0.9097, loss: 0.1022\n",
      "acc: 0.9303, loss: 0.0783\n",
      "acc: 0.9421, loss: 0.0647\n",
      "acc: 0.9504, loss: 0.0561\n",
      "acc: 0.9534, loss: 0.0502\n",
      "acc: 0.9578, loss: 0.0457\n",
      "acc: 0.9622, loss: 0.0424\n",
      "acc: 0.9637, loss: 0.0399\n"
     ]
    }
   ],
   "source": [
    "run_n_epochs(10)"
   ]
  },
  {
   "cell_type": "markdown",
   "id": "0e7928a9-cb8d-45a0-a53c-41a2e7066d73",
   "metadata": {},
   "source": [
    "### Starting Without Reference Here\n",
    "\n",
    "Okay, so let's try to remember what we need to do next...\n",
    "\n",
    "My guess is that we're going to need the following:\n",
    "- a Learner object\n",
    "- pytorch nets\n",
    "\n",
    "And I think we can keep the loss and accuracy functions we wrote...maybe the accuracy has a built-in equivalent for one of the APIs?"
   ]
  },
  {
   "cell_type": "code",
   "execution_count": 46,
   "id": "28810f6c-7ac6-44dc-9fc9-79a8af246382",
   "metadata": {},
   "outputs": [
    {
     "name": "stdout",
     "output_type": "stream",
     "text": [
      "<fastai.data.core.DataLoaders object at 0x7f12c20cef20>\n"
     ]
    }
   ],
   "source": [
    "from fastai.basics import Learner\n",
    "# from fastai.data.core import Dataloaders\n",
    "from fastai.data.core import DataLoaders \n",
    "\n",
    "dls = DataLoaders(dset)\n",
    "print(dls)\n",
    "\n",
    "learner = Learner(dls, linNet, loss_func=mnist_loss)"
   ]
  },
  {
   "cell_type": "code",
   "execution_count": 48,
   "id": "a8294132-e7ba-4bb1-be40-acadaeebc7a2",
   "metadata": {},
   "outputs": [
    {
     "ename": "AttributeError",
     "evalue": "'function' object has no attribute 'parameters'",
     "output_type": "error",
     "traceback": [
      "\u001b[0;31m---------------------------------------------------------------------------\u001b[0m",
      "\u001b[0;31mAttributeError\u001b[0m                            Traceback (most recent call last)",
      "Cell \u001b[0;32mIn [48], line 1\u001b[0m\n\u001b[0;32m----> 1\u001b[0m \u001b[43mlearner\u001b[49m\u001b[38;5;241;43m.\u001b[39;49m\u001b[43mfit\u001b[49m\u001b[43m(\u001b[49m\u001b[38;5;241;43m5\u001b[39;49m\u001b[43m)\u001b[49m\n",
      "File \u001b[0;32m~/mambaforge/lib/python3.10/site-packages/fastai/learner.py:251\u001b[0m, in \u001b[0;36mLearner.fit\u001b[0;34m(self, n_epoch, lr, wd, cbs, reset_opt, start_epoch)\u001b[0m\n\u001b[1;32m    249\u001b[0m     cbs \u001b[38;5;241m=\u001b[39m L(cbs) \u001b[38;5;241m+\u001b[39m SkipToEpoch(start_epoch)\n\u001b[1;32m    250\u001b[0m \u001b[38;5;28;01mwith\u001b[39;00m \u001b[38;5;28mself\u001b[39m\u001b[38;5;241m.\u001b[39madded_cbs(cbs):\n\u001b[0;32m--> 251\u001b[0m     \u001b[38;5;28;01mif\u001b[39;00m reset_opt \u001b[38;5;129;01mor\u001b[39;00m \u001b[38;5;129;01mnot\u001b[39;00m \u001b[38;5;28mself\u001b[39m\u001b[38;5;241m.\u001b[39mopt: \u001b[38;5;28;43mself\u001b[39;49m\u001b[38;5;241;43m.\u001b[39;49m\u001b[43mcreate_opt\u001b[49m\u001b[43m(\u001b[49m\u001b[43m)\u001b[49m\n\u001b[1;32m    252\u001b[0m     \u001b[38;5;28;01mif\u001b[39;00m wd \u001b[38;5;129;01mis\u001b[39;00m \u001b[38;5;28;01mNone\u001b[39;00m: wd \u001b[38;5;241m=\u001b[39m \u001b[38;5;28mself\u001b[39m\u001b[38;5;241m.\u001b[39mwd\n\u001b[1;32m    253\u001b[0m     \u001b[38;5;28;01mif\u001b[39;00m wd \u001b[38;5;129;01mis\u001b[39;00m \u001b[38;5;129;01mnot\u001b[39;00m \u001b[38;5;28;01mNone\u001b[39;00m: \u001b[38;5;28mself\u001b[39m\u001b[38;5;241m.\u001b[39mopt\u001b[38;5;241m.\u001b[39mset_hypers(wd\u001b[38;5;241m=\u001b[39mwd)\n",
      "File \u001b[0;32m~/mambaforge/lib/python3.10/site-packages/fastai/learner.py:182\u001b[0m, in \u001b[0;36mLearner.create_opt\u001b[0;34m(self)\u001b[0m\n\u001b[1;32m    180\u001b[0m     \u001b[38;5;28;01mif\u001b[39;00m \u001b[38;5;124m'\u001b[39m\u001b[38;5;124mlr\u001b[39m\u001b[38;5;124m'\u001b[39m \u001b[38;5;129;01min\u001b[39;00m \u001b[38;5;28mself\u001b[39m\u001b[38;5;241m.\u001b[39mopt_func\u001b[38;5;241m.\u001b[39mkeywords:\n\u001b[1;32m    181\u001b[0m         \u001b[38;5;28mself\u001b[39m\u001b[38;5;241m.\u001b[39mlr \u001b[38;5;241m=\u001b[39m \u001b[38;5;28mself\u001b[39m\u001b[38;5;241m.\u001b[39mopt_func\u001b[38;5;241m.\u001b[39mkeywords[\u001b[38;5;124m'\u001b[39m\u001b[38;5;124mlr\u001b[39m\u001b[38;5;124m'\u001b[39m]\n\u001b[0;32m--> 182\u001b[0m \u001b[38;5;28mself\u001b[39m\u001b[38;5;241m.\u001b[39mopt \u001b[38;5;241m=\u001b[39m \u001b[38;5;28mself\u001b[39m\u001b[38;5;241m.\u001b[39mopt_func(\u001b[38;5;28;43mself\u001b[39;49m\u001b[38;5;241;43m.\u001b[39;49m\u001b[43msplitter\u001b[49m\u001b[43m(\u001b[49m\u001b[38;5;28;43mself\u001b[39;49m\u001b[38;5;241;43m.\u001b[39;49m\u001b[43mmodel\u001b[49m\u001b[43m)\u001b[49m, lr\u001b[38;5;241m=\u001b[39m\u001b[38;5;28mself\u001b[39m\u001b[38;5;241m.\u001b[39mlr)\n\u001b[1;32m    183\u001b[0m \u001b[38;5;28;01mif\u001b[39;00m \u001b[38;5;129;01mnot\u001b[39;00m \u001b[38;5;28mself\u001b[39m\u001b[38;5;241m.\u001b[39mwd_bn_bias:\n\u001b[1;32m    184\u001b[0m     \u001b[38;5;28;01mfor\u001b[39;00m p \u001b[38;5;129;01min\u001b[39;00m \u001b[38;5;28mself\u001b[39m\u001b[38;5;241m.\u001b[39m_bn_bias_state(\u001b[38;5;28;01mTrue\u001b[39;00m ): p[\u001b[38;5;124m'\u001b[39m\u001b[38;5;124mdo_wd\u001b[39m\u001b[38;5;124m'\u001b[39m] \u001b[38;5;241m=\u001b[39m \u001b[38;5;28;01mFalse\u001b[39;00m\n",
      "File \u001b[0;32m~/mambaforge/lib/python3.10/site-packages/fastai/torch_core.py:655\u001b[0m, in \u001b[0;36mtrainable_params\u001b[0;34m(m)\u001b[0m\n\u001b[1;32m    653\u001b[0m \u001b[38;5;28;01mdef\u001b[39;00m \u001b[38;5;21mtrainable_params\u001b[39m(m):\n\u001b[1;32m    654\u001b[0m     \u001b[38;5;124m\"\u001b[39m\u001b[38;5;124mReturn all trainable parameters of `m`\u001b[39m\u001b[38;5;124m\"\u001b[39m\n\u001b[0;32m--> 655\u001b[0m     \u001b[38;5;28;01mreturn\u001b[39;00m [p \u001b[38;5;28;01mfor\u001b[39;00m p \u001b[38;5;129;01min\u001b[39;00m \u001b[43mm\u001b[49m\u001b[38;5;241;43m.\u001b[39;49m\u001b[43mparameters\u001b[49m() \u001b[38;5;28;01mif\u001b[39;00m p\u001b[38;5;241m.\u001b[39mrequires_grad]\n",
      "\u001b[0;31mAttributeError\u001b[0m: 'function' object has no attribute 'parameters'"
     ]
    }
   ],
   "source": [
    "learner.fit(5)"
   ]
  },
  {
   "cell_type": "markdown",
   "id": "51a22eff-2dda-489b-9e0b-d696e783b99c",
   "metadata": {},
   "source": [
    "So at this point, the model that we wrote doesn't have its own params. So we'll move to using the pytorch models."
   ]
  },
  {
   "cell_type": "code",
   "execution_count": 53,
   "id": "544e7eb7-ad27-4ff3-884f-8c7b6975b85b",
   "metadata": {},
   "outputs": [],
   "source": [
    "from torch import nn\n",
    "\n",
    "linear2 = nn.Linear(28*28, 1)"
   ]
  },
  {
   "cell_type": "code",
   "execution_count": 54,
   "id": "193d2f57-3238-4435-ac2f-c9388ee7e699",
   "metadata": {},
   "outputs": [],
   "source": [
    "learner = Learner(dls, linear2, loss_func=mnist_loss)"
   ]
  },
  {
   "cell_type": "code",
   "execution_count": 55,
   "id": "572e1af3-00ee-4287-ad97-e27612c849f5",
   "metadata": {},
   "outputs": [
    {
     "ename": "IndexError",
     "evalue": "list index out of range",
     "output_type": "error",
     "traceback": [
      "\u001b[0;31m---------------------------------------------------------------------------\u001b[0m",
      "\u001b[0;31mIndexError\u001b[0m                                Traceback (most recent call last)",
      "Cell \u001b[0;32mIn [55], line 1\u001b[0m\n\u001b[0;32m----> 1\u001b[0m \u001b[43mlearner\u001b[49m\u001b[38;5;241;43m.\u001b[39;49m\u001b[43mfit\u001b[49m\u001b[43m(\u001b[49m\u001b[38;5;241;43m5\u001b[39;49m\u001b[43m)\u001b[49m\n",
      "File \u001b[0;32m~/mambaforge/lib/python3.10/site-packages/fastai/learner.py:256\u001b[0m, in \u001b[0;36mLearner.fit\u001b[0;34m(self, n_epoch, lr, wd, cbs, reset_opt, start_epoch)\u001b[0m\n\u001b[1;32m    254\u001b[0m \u001b[38;5;28mself\u001b[39m\u001b[38;5;241m.\u001b[39mopt\u001b[38;5;241m.\u001b[39mset_hypers(lr\u001b[38;5;241m=\u001b[39m\u001b[38;5;28mself\u001b[39m\u001b[38;5;241m.\u001b[39mlr \u001b[38;5;28;01mif\u001b[39;00m lr \u001b[38;5;129;01mis\u001b[39;00m \u001b[38;5;28;01mNone\u001b[39;00m \u001b[38;5;28;01melse\u001b[39;00m lr)\n\u001b[1;32m    255\u001b[0m \u001b[38;5;28mself\u001b[39m\u001b[38;5;241m.\u001b[39mn_epoch \u001b[38;5;241m=\u001b[39m n_epoch\n\u001b[0;32m--> 256\u001b[0m \u001b[38;5;28;43mself\u001b[39;49m\u001b[38;5;241;43m.\u001b[39;49m\u001b[43m_with_events\u001b[49m\u001b[43m(\u001b[49m\u001b[38;5;28;43mself\u001b[39;49m\u001b[38;5;241;43m.\u001b[39;49m\u001b[43m_do_fit\u001b[49m\u001b[43m,\u001b[49m\u001b[43m \u001b[49m\u001b[38;5;124;43m'\u001b[39;49m\u001b[38;5;124;43mfit\u001b[39;49m\u001b[38;5;124;43m'\u001b[39;49m\u001b[43m,\u001b[49m\u001b[43m \u001b[49m\u001b[43mCancelFitException\u001b[49m\u001b[43m,\u001b[49m\u001b[43m \u001b[49m\u001b[38;5;28;43mself\u001b[39;49m\u001b[38;5;241;43m.\u001b[39;49m\u001b[43m_end_cleanup\u001b[49m\u001b[43m)\u001b[49m\n",
      "File \u001b[0;32m~/mambaforge/lib/python3.10/site-packages/fastai/learner.py:193\u001b[0m, in \u001b[0;36mLearner._with_events\u001b[0;34m(self, f, event_type, ex, final)\u001b[0m\n\u001b[1;32m    192\u001b[0m \u001b[38;5;28;01mdef\u001b[39;00m \u001b[38;5;21m_with_events\u001b[39m(\u001b[38;5;28mself\u001b[39m, f, event_type, ex, final\u001b[38;5;241m=\u001b[39mnoop):\n\u001b[0;32m--> 193\u001b[0m     \u001b[38;5;28;01mtry\u001b[39;00m: \u001b[38;5;28mself\u001b[39m(\u001b[38;5;124mf\u001b[39m\u001b[38;5;124m'\u001b[39m\u001b[38;5;124mbefore_\u001b[39m\u001b[38;5;132;01m{\u001b[39;00mevent_type\u001b[38;5;132;01m}\u001b[39;00m\u001b[38;5;124m'\u001b[39m);  \u001b[43mf\u001b[49m\u001b[43m(\u001b[49m\u001b[43m)\u001b[49m\n\u001b[1;32m    194\u001b[0m     \u001b[38;5;28;01mexcept\u001b[39;00m ex: \u001b[38;5;28mself\u001b[39m(\u001b[38;5;124mf\u001b[39m\u001b[38;5;124m'\u001b[39m\u001b[38;5;124mafter_cancel_\u001b[39m\u001b[38;5;132;01m{\u001b[39;00mevent_type\u001b[38;5;132;01m}\u001b[39;00m\u001b[38;5;124m'\u001b[39m)\n\u001b[1;32m    195\u001b[0m     \u001b[38;5;28mself\u001b[39m(\u001b[38;5;124mf\u001b[39m\u001b[38;5;124m'\u001b[39m\u001b[38;5;124mafter_\u001b[39m\u001b[38;5;132;01m{\u001b[39;00mevent_type\u001b[38;5;132;01m}\u001b[39;00m\u001b[38;5;124m'\u001b[39m);  final()\n",
      "File \u001b[0;32m~/mambaforge/lib/python3.10/site-packages/fastai/learner.py:245\u001b[0m, in \u001b[0;36mLearner._do_fit\u001b[0;34m(self)\u001b[0m\n\u001b[1;32m    243\u001b[0m \u001b[38;5;28;01mfor\u001b[39;00m epoch \u001b[38;5;129;01min\u001b[39;00m \u001b[38;5;28mrange\u001b[39m(\u001b[38;5;28mself\u001b[39m\u001b[38;5;241m.\u001b[39mn_epoch):\n\u001b[1;32m    244\u001b[0m     \u001b[38;5;28mself\u001b[39m\u001b[38;5;241m.\u001b[39mepoch\u001b[38;5;241m=\u001b[39mepoch\n\u001b[0;32m--> 245\u001b[0m     \u001b[38;5;28;43mself\u001b[39;49m\u001b[38;5;241;43m.\u001b[39;49m\u001b[43m_with_events\u001b[49m\u001b[43m(\u001b[49m\u001b[38;5;28;43mself\u001b[39;49m\u001b[38;5;241;43m.\u001b[39;49m\u001b[43m_do_epoch\u001b[49m\u001b[43m,\u001b[49m\u001b[43m \u001b[49m\u001b[38;5;124;43m'\u001b[39;49m\u001b[38;5;124;43mepoch\u001b[39;49m\u001b[38;5;124;43m'\u001b[39;49m\u001b[43m,\u001b[49m\u001b[43m \u001b[49m\u001b[43mCancelEpochException\u001b[49m\u001b[43m)\u001b[49m\n",
      "File \u001b[0;32m~/mambaforge/lib/python3.10/site-packages/fastai/learner.py:193\u001b[0m, in \u001b[0;36mLearner._with_events\u001b[0;34m(self, f, event_type, ex, final)\u001b[0m\n\u001b[1;32m    192\u001b[0m \u001b[38;5;28;01mdef\u001b[39;00m \u001b[38;5;21m_with_events\u001b[39m(\u001b[38;5;28mself\u001b[39m, f, event_type, ex, final\u001b[38;5;241m=\u001b[39mnoop):\n\u001b[0;32m--> 193\u001b[0m     \u001b[38;5;28;01mtry\u001b[39;00m: \u001b[38;5;28mself\u001b[39m(\u001b[38;5;124mf\u001b[39m\u001b[38;5;124m'\u001b[39m\u001b[38;5;124mbefore_\u001b[39m\u001b[38;5;132;01m{\u001b[39;00mevent_type\u001b[38;5;132;01m}\u001b[39;00m\u001b[38;5;124m'\u001b[39m);  \u001b[43mf\u001b[49m\u001b[43m(\u001b[49m\u001b[43m)\u001b[49m\n\u001b[1;32m    194\u001b[0m     \u001b[38;5;28;01mexcept\u001b[39;00m ex: \u001b[38;5;28mself\u001b[39m(\u001b[38;5;124mf\u001b[39m\u001b[38;5;124m'\u001b[39m\u001b[38;5;124mafter_cancel_\u001b[39m\u001b[38;5;132;01m{\u001b[39;00mevent_type\u001b[38;5;132;01m}\u001b[39;00m\u001b[38;5;124m'\u001b[39m)\n\u001b[1;32m    195\u001b[0m     \u001b[38;5;28mself\u001b[39m(\u001b[38;5;124mf\u001b[39m\u001b[38;5;124m'\u001b[39m\u001b[38;5;124mafter_\u001b[39m\u001b[38;5;132;01m{\u001b[39;00mevent_type\u001b[38;5;132;01m}\u001b[39;00m\u001b[38;5;124m'\u001b[39m);  final()\n",
      "File \u001b[0;32m~/mambaforge/lib/python3.10/site-packages/fastai/learner.py:240\u001b[0m, in \u001b[0;36mLearner._do_epoch\u001b[0;34m(self)\u001b[0m\n\u001b[1;32m    238\u001b[0m \u001b[38;5;28;01mdef\u001b[39;00m \u001b[38;5;21m_do_epoch\u001b[39m(\u001b[38;5;28mself\u001b[39m):\n\u001b[1;32m    239\u001b[0m     \u001b[38;5;28mself\u001b[39m\u001b[38;5;241m.\u001b[39m_do_epoch_train()\n\u001b[0;32m--> 240\u001b[0m     \u001b[38;5;28;43mself\u001b[39;49m\u001b[38;5;241;43m.\u001b[39;49m\u001b[43m_do_epoch_validate\u001b[49m\u001b[43m(\u001b[49m\u001b[43m)\u001b[49m\n",
      "File \u001b[0;32m~/mambaforge/lib/python3.10/site-packages/fastai/learner.py:234\u001b[0m, in \u001b[0;36mLearner._do_epoch_validate\u001b[0;34m(self, ds_idx, dl)\u001b[0m\n\u001b[1;32m    233\u001b[0m \u001b[38;5;28;01mdef\u001b[39;00m \u001b[38;5;21m_do_epoch_validate\u001b[39m(\u001b[38;5;28mself\u001b[39m, ds_idx\u001b[38;5;241m=\u001b[39m\u001b[38;5;241m1\u001b[39m, dl\u001b[38;5;241m=\u001b[39m\u001b[38;5;28;01mNone\u001b[39;00m):\n\u001b[0;32m--> 234\u001b[0m     \u001b[38;5;28;01mif\u001b[39;00m dl \u001b[38;5;129;01mis\u001b[39;00m \u001b[38;5;28;01mNone\u001b[39;00m: dl \u001b[38;5;241m=\u001b[39m \u001b[38;5;28;43mself\u001b[39;49m\u001b[38;5;241;43m.\u001b[39;49m\u001b[43mdls\u001b[49m\u001b[43m[\u001b[49m\u001b[43mds_idx\u001b[49m\u001b[43m]\u001b[49m\n\u001b[1;32m    235\u001b[0m     \u001b[38;5;28mself\u001b[39m\u001b[38;5;241m.\u001b[39mdl \u001b[38;5;241m=\u001b[39m dl\n\u001b[1;32m    236\u001b[0m     \u001b[38;5;28;01mwith\u001b[39;00m torch\u001b[38;5;241m.\u001b[39mno_grad(): \u001b[38;5;28mself\u001b[39m\u001b[38;5;241m.\u001b[39m_with_events(\u001b[38;5;28mself\u001b[39m\u001b[38;5;241m.\u001b[39mall_batches, \u001b[38;5;124m'\u001b[39m\u001b[38;5;124mvalidate\u001b[39m\u001b[38;5;124m'\u001b[39m, CancelValidException)\n",
      "File \u001b[0;32m~/mambaforge/lib/python3.10/site-packages/fastai/data/core.py:208\u001b[0m, in \u001b[0;36mDataLoaders.__getitem__\u001b[0;34m(self, i)\u001b[0m\n\u001b[0;32m--> 208\u001b[0m \u001b[38;5;28;01mdef\u001b[39;00m \u001b[38;5;21m__getitem__\u001b[39m(\u001b[38;5;28mself\u001b[39m, i): \u001b[38;5;28;01mreturn\u001b[39;00m \u001b[38;5;28;43mself\u001b[39;49m\u001b[38;5;241;43m.\u001b[39;49m\u001b[43mloaders\u001b[49m\u001b[43m[\u001b[49m\u001b[43mi\u001b[49m\u001b[43m]\u001b[49m\n",
      "\u001b[0;31mIndexError\u001b[0m: list index out of range"
     ]
    }
   ],
   "source": [
    "learner.fit(5)"
   ]
  },
  {
   "cell_type": "markdown",
   "id": "04ee8e90-2204-4869-9e56-0c9161bd082b",
   "metadata": {},
   "source": [
    "So we didn't add the validation set to the dataloaders object."
   ]
  },
  {
   "cell_type": "code",
   "execution_count": 58,
   "id": "97d497a4-3934-49c3-919f-4238ac4776ce",
   "metadata": {},
   "outputs": [],
   "source": [
    "valid_dset_dl = DataLoader(valid_dset, bs=256)\n",
    "\n",
    "dls = DataLoaders(dset, valid_dset_dl)"
   ]
  },
  {
   "cell_type": "code",
   "execution_count": 59,
   "id": "e8a4db5b-6b6b-4443-88fc-3423596211f9",
   "metadata": {},
   "outputs": [],
   "source": [
    "learner = Learner(dls, linear2, loss_func=mnist_loss)"
   ]
  },
  {
   "cell_type": "code",
   "execution_count": 61,
   "id": "2211aca5-9954-489a-b518-ee92d46343a9",
   "metadata": {},
   "outputs": [
    {
     "name": "stdout",
     "output_type": "stream",
     "text": [
      "[0, 0.6831236481666565, -0.8868663311004639, '00:00']\n",
      "[1, -0.05327514931559563, -1.8254307508468628, '00:00']\n",
      "[2, -0.8207753300666809, -2.7827961444854736, '00:00']\n",
      "[3, -1.6448577642440796, -3.747657060623169, '00:00']\n",
      "[4, -2.5066113471984863, -4.716002464294434, '00:00']\n"
     ]
    }
   ],
   "source": [
    "learner.fit(5)"
   ]
  },
  {
   "cell_type": "markdown",
   "id": "6523bbb9-afa7-48e9-9da6-27c19854b6c0",
   "metadata": {},
   "source": [
    "Not sure what these numbers are, but I do know that I skipped the sigmoid bit...again!"
   ]
  },
  {
   "cell_type": "code",
   "execution_count": 69,
   "id": "c42a6249-dd50-4c2f-a887-ffd624de116f",
   "metadata": {},
   "outputs": [
    {
     "name": "stdout",
     "output_type": "stream",
     "text": [
      "[0, 0.6135900020599365, 0.4180690050125122, '00:00']\n",
      "[1, 0.4393807053565979, 0.23326237499713898, '00:00']\n",
      "[2, 0.2810157835483551, 0.14868852496147156, '00:00']\n",
      "[3, 0.19064800441265106, 0.11205869913101196, '00:00']\n",
      "[4, 0.1383933573961258, 0.09233704209327698, '00:00']\n"
     ]
    }
   ],
   "source": [
    "linear3 = nn.Sequential(\n",
    "    nn.Linear(28*28, 1),\n",
    "    nn.Sigmoid()\n",
    ")\n",
    "\n",
    "learner = Learner(dls, linear3, loss_func=mnist_loss)\n",
    "learner.fit(5)"
   ]
  },
  {
   "cell_type": "markdown",
   "id": "0054ee7b-c3bf-4721-929f-a59105c59a51",
   "metadata": {},
   "source": [
    "Better? I'm not sure. This was pretty good for a first take at this material, so I'm going to look now and see what I got wrong."
   ]
  },
  {
   "cell_type": "markdown",
   "id": "b5ce18ad-7926-4d27-b26d-fd287cb922f1",
   "metadata": {},
   "source": [
    "Things I didn't do:\n",
    "- create an optimizer\n",
    "- use SGD in the learner\n",
    "- import whatever is need to make the table output look better (something in fastbook?)"
   ]
  },
  {
   "cell_type": "code",
   "execution_count": 70,
   "id": "b006444f-7f75-4aa7-b8c2-e03e06fee1d7",
   "metadata": {},
   "outputs": [
    {
     "name": "stdout",
     "output_type": "stream",
     "text": [
      "[0, 0.2988013029098511, 0.13028033077716827, 0.8498528003692627, '00:00']\n",
      "[1, 0.07242824137210846, -0.20603643357753754, 0.9430814385414124, '00:00']\n",
      "[2, -0.18895958364009857, -0.5423532724380493, 0.9582924246788025, '00:00']\n",
      "[3, -0.4732130169868469, -0.8786702156066895, 0.9587831497192383, '00:00']\n",
      "[4, -0.770643413066864, -1.21498703956604, 0.9612364768981934, '00:00']\n"
     ]
    }
   ],
   "source": [
    "from fastai.basics import SGD\n",
    "\n",
    "# from chapter (more or less)\n",
    "learner2 = Learner(dls, nn.Linear(28*28, 1), opt_func=SGD, loss_func=mnist_loss, metrics=accuracy)\n",
    "learner2.fit(5)"
   ]
  },
  {
   "cell_type": "markdown",
   "id": "4f8120e4-a0b2-4b16-a392-c43c8b5ec5a2",
   "metadata": {},
   "source": [
    "Solid run!"
   ]
  }
 ],
 "metadata": {
  "kernelspec": {
   "display_name": "Python 3 (ipykernel)",
   "language": "python",
   "name": "python3"
  },
  "language_info": {
   "codemirror_mode": {
    "name": "ipython",
    "version": 3
   },
   "file_extension": ".py",
   "mimetype": "text/x-python",
   "name": "python",
   "nbconvert_exporter": "python",
   "pygments_lexer": "ipython3",
   "version": "3.10.4"
  }
 },
 "nbformat": 4,
 "nbformat_minor": 5
}
